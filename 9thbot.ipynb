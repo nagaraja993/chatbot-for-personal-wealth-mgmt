{
 "cells": [
  {
   "cell_type": "code",
   "execution_count": 1,
   "metadata": {},
   "outputs": [],
   "source": [
    "from IPython import get_ipython\n",
    "# !pip install cvxopt\n",
    "# !pip install quandl\n",
    "# !pip install watson_developer_cloud\n",
    "# !pip install iexfinance\n",
    "# !pip install fuzzywuzzy\n",
    "# !pip install python-Levenshtein\n",
    "# !pip install seaborn\n",
    "# !pip install urllib3\n",
    "# !pip install ttr\n",
    "# !pip install ipython"
   ]
  },
  {
   "cell_type": "code",
   "execution_count": 2,
   "metadata": {},
   "outputs": [
    {
     "name": "stderr",
     "output_type": "stream",
     "text": [
      "C:\\Users\\Naga Raja Paidimarri\\Anaconda3\\envs\\py35\\lib\\site-packages\\fuzzywuzzy\\fuzz.py:11: UserWarning: Using slow pure-python SequenceMatcher. Install python-Levenshtein to remove this warning\n",
      "  warnings.warn('Using slow pure-python SequenceMatcher. Install python-Levenshtein to remove this warning')\n"
     ]
    }
   ],
   "source": [
    "import watson_developer_cloud\n",
    "import warnings\n",
    "warnings.filterwarnings(\"ignore\")\n",
    "import pandas as pd\n",
    "import numpy as np\n",
    "from iexfinance.stocks import get_historical_data \n",
    "# from datetime import datetime\n",
    "# %matplotlib inline\n",
    "import matplotlib.pyplot as plt\n",
    "import cvxopt as opt\n",
    "from cvxopt import blas, solvers\n",
    "import pandas as pd\n",
    "np.random.seed(123)\n",
    "solvers.options['show_progress'] = False\n",
    "import matplotlib.pyplot as plt\n",
    "import seaborn as sns\n",
    "import scipy.optimize as sco\n",
    "from cvxopt import matrix\n",
    "from numpy import array\n",
    "from scipy import stats\n",
    "import scipy\n",
    "import requests\n",
    "import quandl\n",
    "import datetime\n",
    "import pandas_datareader.data as web\n",
    "from difflib import get_close_matches \n",
    "import seaborn as sns; sns.set()\n",
    "import matplotlib.pyplot as plt\n",
    "from fuzzywuzzy import fuzz\n",
    "from fuzzywuzzy import process\n",
    "from matplotlib import cm"
   ]
  },
  {
   "cell_type": "markdown",
   "metadata": {},
   "source": [
    "## collecting and maintaining a universe of assets"
   ]
  },
  {
   "cell_type": "code",
   "execution_count": 3,
   "metadata": {},
   "outputs": [],
   "source": [
    "dftickerstocksETF = pd.read_csv(\"dftickerstocksandETF\")\n",
    "dftickerstocksETF =dftickerstocksETF.drop('Unnamed: 0',axis = 1)"
   ]
  },
  {
   "cell_type": "code",
   "execution_count": 4,
   "metadata": {},
   "outputs": [],
   "source": [
    "dftickerstocksETF['Sector'] = dftickerstocksETF['Sector'].fillna('Other')"
   ]
  },
  {
   "cell_type": "code",
   "execution_count": 5,
   "metadata": {},
   "outputs": [],
   "source": [
    "dftickerstocksETF = dftickerstocksETF[['Symbol','Security Name','Sector','industry','MarketCap']]"
   ]
  },
  {
   "cell_type": "code",
   "execution_count": 6,
   "metadata": {},
   "outputs": [],
   "source": [
    "# # greater than 10, Morningstar Performance Rating Overall\n",
    "# topETFlistyahoo = pd.read_excel('topetflistyahoo.xlsx')"
   ]
  },
  {
   "cell_type": "code",
   "execution_count": 7,
   "metadata": {},
   "outputs": [],
   "source": [
    "# # Most Actives - US, Mid Cap and Large Cap and Mega Cap, Volume (Intraday):greater than 5000000\n",
    "# topstockslistyahoo = pd.read_excel('topstockslistyahoo.xlsx')"
   ]
  },
  {
   "cell_type": "code",
   "execution_count": null,
   "metadata": {},
   "outputs": [],
   "source": []
  },
  {
   "cell_type": "markdown",
   "metadata": {},
   "source": [
    "#### This function would take a dataframe of historical asset prices and expected return to returns weights after solving MVO problem"
   ]
  },
  {
   "cell_type": "code",
   "execution_count": 8,
   "metadata": {},
   "outputs": [],
   "source": [
    "def meanvariance(final,expected_return,blreturns = []):\n",
    "    \n",
    "#     start = datetime.datetime(2017, 1, 1) \n",
    "#     end = datetime.datetime(2019, 1, 1)\n",
    "    returns = final.pct_change()\n",
    "    returns = returns.iloc[1:]\n",
    "    mean_returns = returns.mean()*250\n",
    "    cov_matrix = returns.cov()*250\n",
    "    n = len(mean_returns)\n",
    "\n",
    "    # Create constraint matrices\n",
    "    G1 = -matrix(np.eye(n))  \n",
    "    G2 = matrix(-mean_returns).trans()\n",
    "    G = matrix(np.concatenate((G2, G1), axis=0))\n",
    "    #G = -opt.matrix(np.eye(n))   # negative n x n identity matrix\n",
    "    h1 = matrix(0.0, (n ,1))\n",
    "    h2 = matrix(expected_return/100, (1 ,1))\n",
    "    h = matrix(np.concatenate((h2, h1), axis=0))\n",
    "    #h = opt.matrix(0.0, (n ,1))\n",
    "    A = opt.matrix(1.0, (1, n))\n",
    "    b = opt.matrix(1.0)  \n",
    "    p = matrix(0.0,(n,1))  \n",
    "    cov_matrix = matrix(cov_matrix.values)\n",
    "    \n",
    "    weights = solvers.qp(2*cov_matrix,p, G, h, A, b)\n",
    "    weights = array(weights['x']).tolist()   \n",
    "    weights = [x[0] for x in weights]    \n",
    "    return weights"
   ]
  },
  {
   "cell_type": "code",
   "execution_count": 131,
   "metadata": {},
   "outputs": [],
   "source": [
    "def efficientfrontierabsolute(final,points = 20,riskfreerate = 0.0167,blreturns = []):\n",
    "    \n",
    "    returns = final.pct_change()\n",
    "    returns = returns.iloc[1:]\n",
    "    mean_returns = returns.mean()*250\n",
    "    cov_matrix = returns.cov()*250\n",
    "    n = len(mean_returns)\n",
    "#     print(mean_returns)\n",
    "    \n",
    "    if len(blreturns) != 0:\n",
    "#         blreturns = [x[0] for x in blreturns]\n",
    "#         blreturns = array(blreturns)\n",
    "        mean_returns = pd.Series(blreturns, index =mean_returns.index )\n",
    "#     print('after')\n",
    "#     print(mean_returns)\n",
    "    \n",
    "    rangeofreturns = np.linspace(0,mean_returns.max(),points)\n",
    "    weights = pd.DataFrame(columns = final.columns)\n",
    "    \n",
    "    G1 = -matrix(np.eye(n))  \n",
    "    G2 = matrix(-mean_returns).trans()\n",
    "    G = matrix(np.concatenate((G2, G1), axis=0))\n",
    "    #G = -opt.matrix(np.eye(n))   # negative n x n identity matrix\n",
    "    h1 = matrix(0.0, (n ,1))\n",
    "    A = opt.matrix(1.0, (1, n))\n",
    "    b = opt.matrix(1.0)  \n",
    "    p = matrix(0.0,(n,1))  \n",
    "    cov_matrix = matrix(cov_matrix.values)\n",
    "    \n",
    "    for i in rangeofreturns:\n",
    "#         print(i)\n",
    "        # Create constraint matrices        \n",
    "        h2 = matrix(-i, (1 ,1))\n",
    "        h = matrix(np.concatenate((h2, h1), axis=0))\n",
    "        #h = opt.matrix(0.0, (n ,1))        \n",
    "        weight = solvers.qp(2*cov_matrix,p, G, h, A, b)\n",
    "#         print(weight['x'])\n",
    "        weight = array(weight['x']).tolist()   \n",
    "        weight = [x[0] for x in weight] \n",
    "        weights = weights.append(pd.Series(weight,index = final.columns),ignore_index=True)\n",
    "            \n",
    "    # risk and return\n",
    "    returns = [blas.dot(matrix(mean_returns).trans(), matrix(x[1])) for x in weights.iterrows()]\n",
    "    risks = [np.sqrt(array(matrix(x[1]).trans()*cov_matrix*matrix(x[1]))[0][0]) for x in weights.iterrows()]\n",
    "        \n",
    "    All = weights.copy()\n",
    "    All['risk'] = risks\n",
    "    All['returns'] = returns\n",
    "    All['Sharpe Ratio'] = (All['returns'] - riskfreerate)/ All['risk'] \n",
    "    \n",
    "    return weights, All"
   ]
  },
  {
   "cell_type": "code",
   "execution_count": 132,
   "metadata": {},
   "outputs": [],
   "source": [
    "def maxsharpe(final,expected_return = 0.10,riskfreerate = 0.0167,blreturns = []):\n",
    "    \n",
    "#     start = datetime.datetime(2017, 1, 1) \n",
    "#     end = datetime.datetime(2019, 1, 1)\n",
    "        \n",
    "    returns = final.pct_change()\n",
    "    returns = returns.iloc[1:]\n",
    "    mean_returns = returns.mean()*250\n",
    "    cov_matrix = returns.cov()*250\n",
    "    n = len(mean_returns)\n",
    "    \n",
    "    weight = pd.DataFrame(columns = final.columns)\n",
    "\n",
    "    rf = 0.025\n",
    "\n",
    "    Q1 = matrix(cov_matrix.values)\n",
    "    Q2 = matrix(np.zeros(n)).trans()\n",
    "    Q3 = matrix(np.zeros(n+1))\n",
    "    Q4 = matrix(np.concatenate((Q1,Q2),axis = 0))\n",
    "    cov_matrix = matrix(np.concatenate((Q4,Q3),axis = 1))\n",
    "         \n",
    "    h1 = mean_returns.values - rf\n",
    "    h2 = np.zeros(1)\n",
    "    h3 = matrix(np.concatenate((h1,h2),axis=0)).trans()\n",
    "\n",
    "    h4 = np.ones(n)\n",
    "    h5 = -np.ones(1)\n",
    "    h6 = matrix(np.concatenate((h4,h5),axis=0)).trans()\n",
    "\n",
    "    A = matrix(np.concatenate((h3,h6),axis=0))\n",
    "    b = opt.matrix([1.0, 0.0], (2,1))\n",
    "    p = matrix(0.0,(n+1,1)) \n",
    "    \n",
    "    G = -matrix(np.eye(n+1))  \n",
    "    h = matrix(np.zeros(n+1))\n",
    "    \n",
    "    #weights = solvers.qp(2*cov_matrix,p, G, h, A, b)\n",
    "    weights = solvers.qp(2*cov_matrix,p, G, h, A, b)\n",
    "    weights = array(weights['x']).tolist()\n",
    "    weights = [x[0]/weights[-1][0] for x in weights][0:-1]\n",
    "    \n",
    "    weight = weight.append(pd.Series(weights,index = final.columns),ignore_index=True)\n",
    "    cov_matrix = returns.cov()*np.sqrt(250)\n",
    "        # risk and return\n",
    "    returns = [blas.dot(matrix(mean_returns).trans(), matrix(weights))]\n",
    "    risks = [np.sqrt(array(matrix(weights).trans()*matrix(cov_matrix.values)*matrix(weights))[0][0])]\n",
    "\n",
    "    All = weight.copy()\n",
    "    All['risk'] = risks\n",
    "    All['returns'] = returns\n",
    "    All['Sharpe Ratio'] = (All['returns'] - riskfreerate)/ All['risk'] \n",
    "        \n",
    "    \n",
    "    return weights, All"
   ]
  },
  {
   "cell_type": "code",
   "execution_count": 133,
   "metadata": {},
   "outputs": [],
   "source": [
    "# final = getdatastocks(['aapl','msft','ms'])"
   ]
  },
  {
   "cell_type": "code",
   "execution_count": 134,
   "metadata": {},
   "outputs": [],
   "source": [
    "def meanvariancetrackingindex(index,final,blreturns = []):\n",
    "       \n",
    "    final = pd.concat([final, index], axis=1)\n",
    "    \n",
    "    returns = final.pct_change()\n",
    "    returns = returns.iloc[1:]\n",
    "    mean_returns = returns.mean()*250\n",
    "    cov_matrix = returns.cov()*250    \n",
    "    expected_return = mean_returns[-1]\n",
    "    mean_returns = mean_returns[:-1]\n",
    "    \n",
    "\n",
    "    beta = cov_matrix.iloc[-1,:][:-1]/cov_matrix.iloc[-1,:][-1]\n",
    "    cov_index = cov_matrix.iloc[-1,-1]\n",
    "    cov_matrix = cov_matrix.iloc[:-1,:-1]\n",
    "\n",
    "    n = len(mean_returns)\n",
    "\n",
    "    # Create constraint matrices\n",
    "    G1 = -matrix(np.eye(n))  \n",
    "    G2 = matrix(-mean_returns).trans()\n",
    "    G = matrix(np.concatenate((G2, G1), axis=0))\n",
    "    #G = -opt.matrix(np.eye(n))   # negative n x n identity matrix\n",
    "    h1 = matrix(0.0, (n ,1))\n",
    "    h2 = matrix(expected_return/100, (1 ,1))\n",
    "    h = matrix(np.concatenate((h2, h1), axis=0))\n",
    "    #h = opt.matrix(0.0, (n ,1))\n",
    "    A = opt.matrix(1.0, (1, n))\n",
    "    b = opt.matrix(1.0)  \n",
    "    p = matrix(beta*cov_index)  \n",
    "    cov_matrix = matrix(cov_matrix.values)\n",
    "    \n",
    "    weights = solvers.qp(2*cov_matrix,p, G, h, A, b)\n",
    "    weights = array(weights['x']).tolist()  \n",
    "    weights = [x[0] for x in weights] \n",
    "    return weights   "
   ]
  },
  {
   "cell_type": "code",
   "execution_count": 135,
   "metadata": {},
   "outputs": [],
   "source": [
    "def efficientfrontierrelative(final,index,points = 20,riskfreerate = 0.0167, blreturns = []):\n",
    "       \n",
    "    finaltemp = pd.concat([final, index], axis=1)\n",
    "    \n",
    "    returns = finaltemp.pct_change()\n",
    "    returns = returns.iloc[1:]\n",
    "    mean_returns = returns.mean()*250\n",
    "    \n",
    "    \n",
    "    cov_matrix = returns.cov()*250    \n",
    "    expected_return = mean_returns[-1]\n",
    "    mean_returns = mean_returns[:-1]\n",
    "    \n",
    "\n",
    "    beta = cov_matrix.iloc[-1,:][:-1]/cov_matrix.iloc[-1,:][-1]\n",
    "    cov_index = cov_matrix.iloc[-1,-1]\n",
    "    cov_matrix = cov_matrix.iloc[:-1,:-1]\n",
    "\n",
    "    n = len(mean_returns)\n",
    "\n",
    "    rangeofreturns = np.linspace(0,mean_returns.max(),points)\n",
    "    weights = pd.DataFrame(columns = final.columns)\n",
    "    \n",
    "    \n",
    "    G1 = -matrix(np.eye(n))  \n",
    "    G2 = matrix(-mean_returns).trans()\n",
    "    G = matrix(np.concatenate((G2, G1), axis=0))\n",
    "    #G = -opt.matrix(np.eye(n))   # negative n x n identity matrix\n",
    "    h1 = matrix(0.0, (n ,1))\n",
    "    A = opt.matrix(1.0, (1, n))\n",
    "    b = opt.matrix(1.0)  \n",
    "    p = matrix(beta*cov_index)   \n",
    "    cov_matrix = matrix(cov_matrix.values)\n",
    "    \n",
    "    for i in rangeofreturns:\n",
    "#         print(i)\n",
    "        # Create constraint matrices        \n",
    "        h2 = matrix(-i, (1 ,1))\n",
    "        h = matrix(np.concatenate((h2, h1), axis=0))\n",
    "        #h = opt.matrix(0.0, (n ,1))        \n",
    "        weight = solvers.qp(2*cov_matrix,p, G, h, A, b)\n",
    "#         print(weight['x'])\n",
    "        weight = array(weight['x']).tolist()   \n",
    "        weight = [x[0] for x in weight] \n",
    "        weights = weights.append(pd.Series(weight,index = final.columns),ignore_index=True)\n",
    "    \n",
    "        # risk and return\n",
    "    returns = [blas.dot(matrix(mean_returns).trans(), matrix(x[1])) for x in weights.iterrows()]\n",
    "    risks = [np.sqrt(array(matrix(x[1]).trans()*cov_matrix*matrix(x[1]))[0][0]) for x in weights.iterrows()]\n",
    "    trackingerror = [np.sqrt(array(matrix(x[1]).trans()*cov_matrix*matrix(x[1]))[0][0] - matrix(beta*cov_index).trans()*matrix(x[1]))[0][0] for x in weights.iterrows()]\n",
    "        \n",
    "    All = weights.copy()\n",
    "    All['risk'] = risks\n",
    "    All['returns'] = returns\n",
    "    All['Tracking Error'] = trackingerror\n",
    "    All['Sharpe Ratio'] = (All['returns'] - riskfreerate)/ All['risk'] \n",
    "    \n",
    "    return weights, All"
   ]
  },
  {
   "cell_type": "markdown",
   "metadata": {},
   "source": [
    "#### This function would take a dataframe of historical asset prices and simply returns equally weighted portfolio"
   ]
  },
  {
   "cell_type": "code",
   "execution_count": 136,
   "metadata": {},
   "outputs": [],
   "source": [
    "def equallyweighted(final,expected_return= 0.10,riskfreerate = 0.0167,blreturns = []):\n",
    "    \n",
    "    returns = final.pct_change()\n",
    "    returns = returns.iloc[1:]\n",
    "    mean_returns = returns.mean()*250\n",
    "    cov_matrix = returns.cov()*250\n",
    "    n = len(mean_returns)\n",
    "    \n",
    "        \n",
    "#     start = datetime.datetime(2017, 1, 1) \n",
    "#     end = datetime.datetime(2019, 1, 1)\n",
    "    weight = pd.DataFrame(columns = final.columns)\n",
    "        \n",
    "    numberofassets = final.shape[1]\n",
    "    weights = np.ones((1,numberofassets), dtype = float)\n",
    "    weights = weights*(1/numberofassets)\n",
    "    weights = weights.tolist()[0]\n",
    "    \n",
    "    weight = weight.append(pd.Series(weights,index = final.columns),ignore_index=True)\n",
    "\n",
    "        # risk and return\n",
    "    returns = [blas.dot(matrix(mean_returns).trans(), matrix(weights))]\n",
    "    risks = [np.sqrt(array(matrix(weights).trans()*matrix(cov_matrix.values)*matrix(weights))[0][0])]\n",
    "\n",
    "    All = weight.copy()\n",
    "    All['risk'] = risks\n",
    "    All['returns'] = returns\n",
    "    All['Sharpe Ratio'] = (All['returns'] - riskfreerate)/ All['risk']   \n",
    "    return weights, All"
   ]
  },
  {
   "cell_type": "code",
   "execution_count": 137,
   "metadata": {},
   "outputs": [],
   "source": [
    "# equallyweighted(final)"
   ]
  },
  {
   "cell_type": "code",
   "execution_count": 138,
   "metadata": {},
   "outputs": [],
   "source": [
    "# def robustoptimization(final):\n",
    "    "
   ]
  },
  {
   "cell_type": "markdown",
   "metadata": {},
   "source": [
    "#### This function would take a dataframe of historical asset prices and assume this as historical scenarios. From these scenarios it would determine the weights which minimizes the tail risk CVAR"
   ]
  },
  {
   "cell_type": "code",
   "execution_count": 17,
   "metadata": {},
   "outputs": [],
   "source": [
    "def cvaroptimization(final,expected_return):\n",
    "        \n",
    "    expected_return = 1\n",
    "#     start = datetime.datetime(2017, 1, 1) \n",
    "#     end = datetime.datetime(2019, 1, 1)\n",
    "    \n",
    "    \n",
    "    returns = final.pct_change()\n",
    "    returns = returns.iloc[1:]\n",
    "    mean_returns = returns.mean()*250\n",
    "    cov_matrix = returns.cov()*250\n",
    "    n = len(mean_returns)\n",
    "    \n",
    "    alpha = 0.95\n",
    "    S = returns.shape[0]\n",
    "    \n",
    "    Q = matrix(np.eye(n+S+1))*0.0\n",
    "    \n",
    "    k = (1 / ( (1 - alpha) * S) )    \n",
    "    p = matrix(np.concatenate((np.zeros(n),k * np.ones(S, dtype = float),np.ones(1, dtype = float)),axis = 0))\n",
    "    \n",
    "    A = matrix(np.concatenate((np.ones(n),np.zeros(S),np.zeros(1)),axis = 0)).trans()\n",
    "    b = opt.matrix(1.0) \n",
    "    \n",
    "    h1 = matrix(0.0, (n+S+1,1))  \n",
    "    h1[n+S] = np.Inf\n",
    "    h2 = matrix(-expected_return/100, (1 ,1))\n",
    "    h3 = matrix(np.concatenate((matrix(np.zeros(S)),h2),axis = 0))\n",
    "    h = matrix(np.concatenate((h1,h3),axis = 0))\n",
    "    \n",
    "    G1 = -matrix(np.eye(n+S+1)) \n",
    "    G2_1 = -matrix(returns.values)\n",
    "    G2_2 = -matrix(np.eye(S))\n",
    "    G2_3 = -matrix(np.ones(S))\n",
    "    G2 = matrix(np.concatenate((G2_1,G2_2,G2_3),axis = 1))\n",
    "    G3 = matrix(np.concatenate((array(-mean_returns),np.zeros(S+1)),axis=0)).trans()\n",
    "    G = matrix(np.concatenate((G1,G2,G3),axis = 0))    \n",
    "\n",
    "    \n",
    "    #weights = solvers.qp(2*cov_matrix,p, G, h, A, b)\n",
    "    weights = solvers.qp(2*Q,p, G, h, A, b)\n",
    "    weights = array(weights['x']).tolist()     \n",
    "    weights = [x[0] for x in weights][0:n]    \n",
    "  \n",
    "    return weights"
   ]
  },
  {
   "cell_type": "code",
   "execution_count": 18,
   "metadata": {},
   "outputs": [],
   "source": [
    "def getdatastocks(stocks,start = datetime.datetime(2017, 1, 1),end = datetime.datetime.today()):\n",
    "    final = pd.DataFrame()\n",
    "    for i in stocks:\n",
    "        final[i] = web.DataReader(i,data_source=\"yahoo\",start= start,end= end)['Adj Close']\n",
    "    return final   "
   ]
  },
  {
   "cell_type": "code",
   "execution_count": 19,
   "metadata": {},
   "outputs": [],
   "source": [
    "def getdataindex(index,start = datetime.datetime(2017, 1, 1),end = datetime.datetime.today()):\n",
    "    final = pd.DataFrame()\n",
    "    index1 = '^'+index\n",
    "    final[index] = web.DataReader(index1,data_source=\"yahoo\",start= start,end= end)['Adj Close']\n",
    "    return final  "
   ]
  },
  {
   "cell_type": "code",
   "execution_count": 20,
   "metadata": {},
   "outputs": [],
   "source": [
    "def summarydfabsolute(All):\n",
    "    summary = All[['risk','returns','Sharpe Ratio']].transpose()\n",
    "#     summary = summary[[int(x) for x in np.linspace(0,18,5)]]\n",
    "    summary = summary[[0,9,12,15,18]]\n",
    "    summary.columns = ['1','2','3','4','5']\n",
    "    summary.index = ['Expected Risk in %','Expected Return in %','Sharpe Ratio']\n",
    "    summary.loc['Expected Risk in %'] = summary.loc['Expected Risk in %'].apply(lambda x: str(int(x * 100)))\n",
    "    summary.loc['Expected Return in %'] = summary.loc['Expected Return in %'].apply(lambda x: str(int(x * 100)))\n",
    "    summary.loc['Sharpe Ratio'] = summary.loc['Sharpe Ratio'].apply(lambda x: round(x,2))\n",
    "    weightschoosen = All.transpose()[[int(x) for x in np.linspace(0,18,5)]].iloc[:-3,:]\n",
    "    weightschoosen.columns = ['one','two','three','four','five']\n",
    "    return summary,weightschoosen"
   ]
  },
  {
   "cell_type": "code",
   "execution_count": 21,
   "metadata": {},
   "outputs": [],
   "source": [
    "# summarydfabsolute(All)[0]"
   ]
  },
  {
   "cell_type": "code",
   "execution_count": 22,
   "metadata": {},
   "outputs": [],
   "source": [
    "def summarydftracking(All):\n",
    "    summary = All[['risk','returns','Sharpe Ratio','Tracking Error']].transpose()\n",
    "#     summary = summary[[int(x) for x in np.linspace(0,18,5)]]\n",
    "    summary = summary[[0,9,12,15,18]]\n",
    "    summary.columns = ['1','2','3','4','5']\n",
    "    summary.index = ['Expected Risk in %','Expected Return in %','Sharpe Ratio','Tracking Error in %']\n",
    "    summary.loc['Expected Risk in %'] = summary.loc['Expected Risk in %'].apply(lambda x: str(int(x * 100)))\n",
    "    summary.loc['Expected Return in %'] = summary.loc['Expected Return in %'].apply(lambda x: str(int(x * 100)))\n",
    "    summary.loc['Tracking Error in %'] = summary.loc['Tracking Error in %'].apply(lambda x: str(int(x * 100)))\n",
    "    summary.loc['Sharpe Ratio'] = summary.loc['Sharpe Ratio'].apply(lambda x: round(x,2))\n",
    "    weightschoosen = All.transpose()[[int(x) for x in np.linspace(0,18,5)]].iloc[:-4,:]\n",
    "    weightschoosen.columns = ['one','two','three','four','five']\n",
    "    return summary,weightschoosen"
   ]
  },
  {
   "cell_type": "code",
   "execution_count": 23,
   "metadata": {},
   "outputs": [],
   "source": [
    "def companynamefromticker(x,y=dftickerstocksETF):\n",
    "    ytemp = y.set_index('Symbol')\n",
    "    name = ytemp.loc[x.upper(),'Security Name']\n",
    "    return name"
   ]
  },
  {
   "cell_type": "code",
   "execution_count": 24,
   "metadata": {},
   "outputs": [],
   "source": [
    "def sectornamefromticker(x,y=dftickerstocksETF):\n",
    "    ytemp = y.set_index('Symbol')\n",
    "    sector = ytemp.loc[x.upper(),'Sector']\n",
    "    return sector"
   ]
  },
  {
   "cell_type": "code",
   "execution_count": 121,
   "metadata": {},
   "outputs": [],
   "source": [
    "def efficientplot(All):\n",
    "    plt.rcParams.update({'font.size': 14})\n",
    "    df = All*100   \n",
    "    fig= plt.figure(figsize=(6,4))\n",
    "    plt.plot(df['risk'], df['returns'],linewidth=2,marker = 'x')\n",
    "    plt.xlabel(\"Risk of the Portfolio in %\",size =14)\n",
    "    plt.ylabel(\"Return of the Portfolio in %\",size =14)\n",
    "    plt.title('Efficient Frontier',size =14)\n",
    "#     y = df['returns'].max()\n",
    "#     x = df['risk'].max()\n",
    "    arrowprops = dict(facecolor='black', headwidth=10, width=2, headlength=4)\n",
    "#     plt.annotate('Portfolio 5', xy=(x+0.1, y-0.15), xytext=(x-1,y-3),arrowprops = arrowprops)\n",
    "    x = df.iloc[[0,9,12,15,18]]['risk'].tolist()\n",
    "    y = df.iloc[[0,9,12,15,18]]['returns'].tolist()\n",
    "    plt.annotate('Portfolio 1', xy=(x[0]+0.1, y[0]-0.15), xytext=(x[0]+0.5,y[0]-2),arrowprops = arrowprops)\n",
    "    plt.annotate('Portfolio 2', xy=(x[1]+0.1, y[1]-0.15), xytext=(x[1]+0.5,y[1]-2),arrowprops = arrowprops)\n",
    "    plt.annotate('Portfolio 3', xy=(x[2]+0.1, y[2]-0.15), xytext=(x[2]+0.5,y[2]-2),arrowprops = arrowprops)\n",
    "    plt.annotate('Portfolio 4', xy=(x[3]+0.1, y[3]-0.15), xytext=(x[3]+0.5,y[3]-2),arrowprops = arrowprops)\n",
    "    plt.annotate('Portfolio 5', xy=(x[4]+0.1, y[4]-0.15), xytext=(x[4]+0.5,y[4]-2),arrowprops = arrowprops)\n",
    "    return plt.show()"
   ]
  },
  {
   "cell_type": "code",
   "execution_count": 128,
   "metadata": {},
   "outputs": [],
   "source": [
    "def efficientplotabsolute(All):\n",
    "    plt.rcParams.update({'font.size': 14})\n",
    "    df = All*100   \n",
    "    fig= plt.figure(figsize=(6,4))\n",
    "    plt.plot(df['Tracking Error'], df['returns'],linewidth=2,marker = 'x')\n",
    "    plt.xlabel(\"Tracking error of the Portfolio in %\",size =14)\n",
    "    plt.ylabel(\"Return of the Portfolio in %\",size =14)\n",
    "    plt.title('Frontier of Tracking error and Return of a portfolio',size =14)\n",
    "#     y = df['returns'].max()\n",
    "#     x = df['risk'].max()\n",
    "    arrowprops = dict(facecolor='black', headwidth=10, width=2, headlength=4)\n",
    "#     plt.annotate('Portfolio 5', xy=(x+0.1, y-0.15), xytext=(x-1,y-3),arrowprops = arrowprops)\n",
    "    x = df.iloc[[0,9,12,15,18]]['Tracking Error'].tolist()\n",
    "    y = df.iloc[[0,9,12,15,18]]['returns'].tolist()\n",
    "    plt.annotate('Portfolio 1', xy=(x[0]+0.1, y[0]-0.15), xytext=(x[0]+0.5,y[0]-2),arrowprops = arrowprops)\n",
    "    plt.annotate('Portfolio 2', xy=(x[1]+0.1, y[1]-0.15), xytext=(x[1]+0.5,y[1]-2),arrowprops = arrowprops)\n",
    "    plt.annotate('Portfolio 3', xy=(x[2]+0.1, y[2]-0.15), xytext=(x[2]+0.5,y[2]-2),arrowprops = arrowprops)\n",
    "    plt.annotate('Portfolio 4', xy=(x[3]+0.1, y[3]-0.15), xytext=(x[3]+0.5,y[3]-2),arrowprops = arrowprops)\n",
    "    plt.annotate('Portfolio 5', xy=(x[4]+0.1, y[4]-0.15), xytext=(x[4]+0.5,y[4]-2),arrowprops = arrowprops)\n",
    "    return plt.show()"
   ]
  },
  {
   "cell_type": "code",
   "execution_count": 122,
   "metadata": {},
   "outputs": [],
   "source": [
    "# efficientplot(All)"
   ]
  },
  {
   "cell_type": "code",
   "execution_count": null,
   "metadata": {},
   "outputs": [],
   "source": []
  },
  {
   "cell_type": "code",
   "execution_count": 28,
   "metadata": {},
   "outputs": [],
   "source": [
    "# shares.index.strftime('%B %Y')"
   ]
  },
  {
   "cell_type": "code",
   "execution_count": 141,
   "metadata": {},
   "outputs": [],
   "source": [
    "def portvalueplot(shares):\n",
    "    plt.rcParams.update({'font.size': 14}) \n",
    "    fig= plt.figure(figsize=(6,4))\n",
    "    plt.plot(shares.index.normalize(), shares[['Portfolio Value','Market Index']],linewidth=1.5)\n",
    "    plt.xlabel(\"Date\",size =14)\n",
    "    plt.ylabel(\"Value of the portfolio in Dollars\",size =14)\n",
    "    plt.title('Portfolio Value in last two years assuming you have 10,000$ today',size =14)\n",
    "    plt.legend(['Portfolio Value', 'Market Index'])\n",
    "#     y = shares['Portfolio Value'][-1]\n",
    "#     x = 0.000002\n",
    "#     arrowprops = dict(facecolor='black', headwidth=10, width=2, headlength=4)\n",
    "#     plt.annotate('10,000 $ today', xy=(x+0.1, y-0.15), xytext=(x-1,y-3),arrowprops = arrowprops)\n",
    "    return plt.show()"
   ]
  },
  {
   "cell_type": "code",
   "execution_count": 30,
   "metadata": {},
   "outputs": [],
   "source": [
    "# weightfinal.values"
   ]
  },
  {
   "cell_type": "code",
   "execution_count": 31,
   "metadata": {},
   "outputs": [],
   "source": [
    "def pieplot(weightfinal):   \n",
    "    \n",
    "    name = [companynamefromticker(x) for x in weightfinal.index]\n",
    "    sector = [sectornamefromticker(x) for x in weightfinal.index]    \n",
    "    df= pd.DataFrame()\n",
    "    df['sector'] = sector\n",
    "    df['values'] = weightfinal.values.tolist()\n",
    "    df1 = df.groupby(['sector'])['values'].sum()\n",
    "        \n",
    "    plt.rcParams['font.size'] = 14.0\n",
    "    plt.rcParams['axes.titlesize'] = 14.0\n",
    "    labels = weightfinal.index\n",
    "\n",
    "    fig, (ax1,ax2) = plt.subplots(2,1)\n",
    "    labels = labels\n",
    "    sizes = weightfinal.values  \n",
    "    \n",
    "    \n",
    "    n = len(weightfinal.values)\n",
    "    a=np.random.random(n)\n",
    "    cs=cm.Set1(np.arange(n)/n)\n",
    "    explode = np.ones(n)*0.02\n",
    "    wedges, texts, autotexts = ax1.pie(sizes,labels=labels,autopct='%1.0f%%', startangle=90,colors =cs , \n",
    "            explode = explode,pctdistance=0.50,labeldistance = 1.1,textprops={'fontsize': 14})\n",
    "#     wedges, texts, autotexts = ax1.pie(sizes,labels=labels, autopct='%1.0f%%', startangle=90,colors =cs , \n",
    "#         explode = explode,pctdistance=0.50,labeldistance = 1.1,textprops={'fontsize': 14})\n",
    "    \n",
    "    centre_circle = plt.Circle((0,0),0.70,fc='white')\n",
    "    \n",
    "#     ax1.legend(wedges, labels,\n",
    "#     title=\"Assets\",\n",
    "#     loc=\"center left\",\n",
    "#     bbox_to_anchor=(1, 0, 0.5, 1))\n",
    "    plt.setp(autotexts, size=12, weight=\"bold\")\n",
    "\n",
    "    # Equal aspect ratio ensures that pie is drawn as a circle\n",
    "    ax1.axis('equal')  \n",
    "    plt.tight_layout()\n",
    "#     fontdict = {'fontweight' : rcParams['axes.titleweight'],'verticalalignment': 'baseline','horizontalalignment': loc}\n",
    "    plt.title('Weight Allocation across Assets',pad = 20)\n",
    "        \n",
    "    fig = plt.gcf()\n",
    "    fig.gca().add_artist(centre_circle)\n",
    "    \n",
    "    wedges, texts, autotexts = ax2.pie(df1.values,labels=df1.index, autopct='%1.0f%%', startangle=90,colors =cs , \n",
    "            pctdistance=0.50,labeldistance = 1.1,textprops={'fontsize': 14})\n",
    "    \n",
    "\n",
    "    fig.set_size_inches(6,6)\n",
    "    return plt.show()"
   ]
  },
  {
   "cell_type": "code",
   "execution_count": 32,
   "metadata": {},
   "outputs": [],
   "source": [
    "# pieplot(weightfinal)"
   ]
  },
  {
   "cell_type": "code",
   "execution_count": 33,
   "metadata": {},
   "outputs": [],
   "source": [
    "# pieplot(weightfinal)"
   ]
  },
  {
   "cell_type": "code",
   "execution_count": 34,
   "metadata": {},
   "outputs": [],
   "source": [
    "# weightfinal"
   ]
  },
  {
   "cell_type": "code",
   "execution_count": 35,
   "metadata": {},
   "outputs": [],
   "source": [
    "# dftickerstocksETF.head()"
   ]
  },
  {
   "cell_type": "code",
   "execution_count": 36,
   "metadata": {},
   "outputs": [],
   "source": [
    "def findthemarketcap(x,y = dftickerstocksETF, i = 0):\n",
    "    mcap = y[y['Symbol'] == x].iloc[0,-1]\n",
    "    if mcap[-1] == 'B':\n",
    "        cap = float(mcap[1:-1])\n",
    "    else:\n",
    "        cap = float(mcap[1:-1])*0.01\n",
    "    return cap"
   ]
  },
  {
   "cell_type": "code",
   "execution_count": 37,
   "metadata": {},
   "outputs": [],
   "source": [
    "# stocks"
   ]
  },
  {
   "cell_type": "code",
   "execution_count": 38,
   "metadata": {},
   "outputs": [],
   "source": [
    "def findtheticker(x,y = dftickerstocksETF, i = 0):\n",
    "    df = y[y['Security Name'] == process.extract(x, y['Security Name'].tolist(), limit=2)[i][0]]\n",
    "    ticker = df.iloc[0,0]\n",
    "    symbol = df.iloc[0,1]\n",
    "    return ticker,symbol"
   ]
  },
  {
   "cell_type": "code",
   "execution_count": 39,
   "metadata": {},
   "outputs": [],
   "source": [
    "def tickersunknown():\n",
    "    print(\"enter the name of the assets to be considered one at a time and press enter, after completed enter 'done' in the end\")\n",
    "    stocks = []\n",
    "    user_input = ''\n",
    "    while user_input != 'done':\n",
    "            user_input = input('>> ')\n",
    "            if user_input != 'done':\n",
    "                temp = findtheticker(user_input,y = dftickerstocksETF,i=0)\n",
    "                print(\"the security ticker is '%s' and the security is '%s' and please continue to enter untill you are 'done' \" %(temp[0],temp[1]))\n",
    "                stocks.append(temp[0])\n",
    "    return stocks"
   ]
  },
  {
   "cell_type": "code",
   "execution_count": 40,
   "metadata": {},
   "outputs": [],
   "source": [
    "def tickersknown():\n",
    "    print(\"enter the name of the assets to be considered one at a time and press enter, after completed enter 'done' in the end\")\n",
    "    stocks = []\n",
    "    user_input = ''\n",
    "    while user_input != 'done':\n",
    "        user_input = input('>> ')\n",
    "        stocks.append(user_input)\n",
    "    stocks.pop() \n",
    "    return stocks"
   ]
  },
  {
   "cell_type": "code",
   "execution_count": 41,
   "metadata": {},
   "outputs": [],
   "source": [
    "def collectdatafromuser():\n",
    "    print(\"enter the list of shares or ETF's you want to hold in your portfolio and after completed enter 'done' in the end\")\n",
    "    print(\"please enter 'yes' if you are already aware of the tickers of the company else 'no'\")\n",
    "    \n",
    "    user_inpu_4 = input('>> ')\n",
    "    if user_inpu_4 == 'yes':\n",
    "        stocks = tickersknown()\n",
    "    else:\n",
    "        stocks = tickersunknown() \n",
    "    shares = getdatastocks(stocks)\n",
    "    return shares,stocks"
   ]
  },
  {
   "cell_type": "code",
   "execution_count": 42,
   "metadata": {},
   "outputs": [],
   "source": [
    "# views(stocks,company)"
   ]
  },
  {
   "cell_type": "code",
   "execution_count": 43,
   "metadata": {},
   "outputs": [],
   "source": [
    "def viewsfunc(stocks,company,usernames):\n",
    "    \n",
    "    views = pd.DataFrame(columns = stocks)\n",
    "    values = []\n",
    "    service = watson_developer_cloud.AssistantV2(iam_apikey = 'jAINB1_e24mDxYqqD8vsqMzr2XUYualRTbSKC1HMXndT', # replace with API key\n",
    "        version = '2018-09-20')\n",
    "    assistant_id = '0d24f406-3df1-4d85-a93d-a39a64a95d1e' # replace with assistant ID\n",
    "    session_id = service.create_session(assistant_id = assistant_id).get_result()['session_id']    \n",
    "    user_input = 'expressing the views'\n",
    "    while user_input != 'done':\n",
    "        response = service.message(assistant_id,session_id,input = {'text': user_input}).get_result()\n",
    "        print('please continue to express the view')\n",
    "        \n",
    "        if response['output']['intents'][0]['intent'] == 'views':\n",
    "            comp = []\n",
    "            for i in range(0,len(response['output']['entities'])):\n",
    "                if response['output']['entities'][i]['entity'] == 'companyname':\n",
    "                    comp.append(response['output']['entities'][i]['value'])\n",
    "            value = response['output']['entities'][-1]['value'] \n",
    "            temp = [0]*len(stocks)\n",
    "            temp[usernames.index(comp[0])] = 1\n",
    "            temp[usernames.index(comp[1])] = -1\n",
    "            views = views.append(pd.Series(temp,index = stocks),ignore_index=True)\n",
    "            values.append(value)\n",
    "            \n",
    "        user_input = input('UserBL: ')\n",
    "    # We're done, so we delete the session.d\n",
    "    service.delete_session(assistant_id = assistant_id,session_id = session_id)    \n",
    "    return views,values    "
   ]
  },
  {
   "cell_type": "code",
   "execution_count": 44,
   "metadata": {},
   "outputs": [],
   "source": [
    "# returns - riskfreerate"
   ]
  },
  {
   "cell_type": "code",
   "execution_count": 45,
   "metadata": {},
   "outputs": [],
   "source": [
    "def BlackLitterman(riskfreerate = 0.0167,tau = .025):\n",
    "    print(\"enter the name of the companies you want to considerr and enter 'done' in the end\")\n",
    "    stocks = []\n",
    "    company = []\n",
    "    usernames = []\n",
    "    user_input = ''\n",
    "    while user_input != 'done':\n",
    "            user_input = input('>> ')\n",
    "            if user_input != 'done':\n",
    "                temp = findtheticker(user_input,y = dftickerstocksETF,i=0)\n",
    "                print(\"the security ticker is '%s' and the security is '%s' and please continue to enter \" %(temp[0],temp[1]))\n",
    "                stocks.append(temp[0])\n",
    "                company.append(temp[1])\n",
    "                usernames.append(user_input)\n",
    "                \n",
    "    print(stocks)\n",
    "                \n",
    "    shares = getdatastocks(stocks)\n",
    "#     print(stocks)\n",
    "#     print(company)\n",
    "#     print(usernames)\n",
    "    views,values = viewsfunc(stocks,company,usernames)\n",
    "    print('the views expressed are:')\n",
    "    print(views)\n",
    "    print('the values expressed are:')\n",
    "    print(values)\n",
    "    \n",
    "#     start = datetime.datetime(2017, 1, 1) \n",
    "#     end = datetime.datetime(2019, 1, 1)\n",
    "        \n",
    "    returns = shares.pct_change()\n",
    "    returns = returns.iloc[1:]\n",
    "    mean_returns = returns.mean()*250\n",
    "    cov_matrix = (returns - riskfreerate).cov()*np.sqrt(250)\n",
    "    n = len(mean_returns)\n",
    "    \n",
    "    mcap = [findthemarketcap(x) for x in stocks]\n",
    "    mweights = array(mcap) / sum(mcap) \n",
    "    \n",
    "    portmean = sum(mean_returns.values*mweights)\n",
    "    portvariance = np.dot(np.dot(mweights, cov_matrix.values), mweights)\n",
    "\n",
    "    lmb = (portmean - riskfreerate) / portvariance  \n",
    "    Pi = np.dot(np.dot(lmb, cov_matrix.values), mweights)  \n",
    "    \n",
    "    C = cov_matrix.values\n",
    "    P = views.values  #link or vies\n",
    "    Q = values #vlues of views\n",
    "    Q = array([float(i) for i in Q])*0.01\n",
    "    \n",
    "    omega = np.dot(np.dot(np.dot(tau, P), C), P.transpose()) # 0.01 * P * C * transpose(P)\n",
    "    omega = omega.astype('float')\n",
    "    sub_a = inv(np.dot(tau, C))\n",
    "    sub_b = np.dot(np.dot(P.transpose(), inv(omega)), P)\n",
    "#     sub_c = np.dot(inv(np.dot(tau, C)), Pi.transpose())\n",
    "    sub_c = matrix(inv(np.dot(tau, C)))*matrix(Pi)\n",
    "    sub_d = matrix(np.dot(P.transpose(), inv(omega)).astype(float))*matrix(Q)\n",
    "#     sub_d = np.dot(np.dot(P.transpose(), inv(omega)), Q.transpose())    \n",
    "    sub_a = sub_a.astype('float')\n",
    "    sub_b = sub_b.astype('float')\n",
    "    Pi_adj = np.dot(inv(sub_a + sub_b), (sub_c + sub_d))\n",
    "\n",
    "    return Pi_adj,Pi,shares,stocks,company,usernames"
   ]
  },
  {
   "cell_type": "code",
   "execution_count": 46,
   "metadata": {},
   "outputs": [],
   "source": [
    "import scipy.optimize\n",
    "from pandas import *\n",
    "from numpy.linalg import inv"
   ]
  },
  {
   "cell_type": "code",
   "execution_count": 47,
   "metadata": {},
   "outputs": [],
   "source": [
    "# BLreturns"
   ]
  },
  {
   "cell_type": "code",
   "execution_count": 48,
   "metadata": {},
   "outputs": [],
   "source": [
    "def barplotBL(BLreturns, MLreturns,usernames):\n",
    "\n",
    "    ind = np.arange(len(BLreturns)) \n",
    "    width = 0.35       \n",
    "    plt.bar(ind, MLreturns, width, label='Market Equilibrium Returns')\n",
    "    plt.bar(ind + width, BLreturns, width,label='Black Litermann Returns')\n",
    "\n",
    "    plt.ylabel('Return %')\n",
    "    plt.title('Comparision of expected returns of assets')\n",
    "\n",
    "    plt.xticks(ind + width / 2, usernames)\n",
    "    plt.legend(loc='best')\n",
    "    \n",
    "    return plt.show()"
   ]
  },
  {
   "cell_type": "code",
   "execution_count": 49,
   "metadata": {},
   "outputs": [],
   "source": [
    "# MLreturns"
   ]
  },
  {
   "cell_type": "code",
   "execution_count": 50,
   "metadata": {},
   "outputs": [],
   "source": [
    "# BLreturns"
   ]
  },
  {
   "cell_type": "code",
   "execution_count": 51,
   "metadata": {},
   "outputs": [],
   "source": [
    "def simulation(weightfinal,final,scenarios = 1500,capital = 10000,years = [1,3,5]):\n",
    "    \n",
    "    returns = final.pct_change()\n",
    "    returns = returns.iloc[1:]\n",
    "    mean_returns = returns.mean()*250\n",
    "    cov_matrix = returns.cov()*250\n",
    "    n = len(mean_returns)\n",
    "    \n",
    "    portfoliomatrix = pd.DataFrame()\n",
    "    \n",
    "    for j in years:\n",
    "        matrix = np.ones((scenarios,n))\n",
    "\n",
    "        for i in range(0,j):\n",
    "            scenariosmatrix = np.random.multivariate_normal(mean_returns, cov_matrix, scenarios)\n",
    "            matrix = np.multiply(matrix,1+scenariosmatrix)\n",
    "\n",
    "        matrix = pd.DataFrame(matrix,columns = final.columns)\n",
    "        def portfoliovalue(row,shares = weightfinal):\n",
    "            return sum(row.multiply(shares))    \n",
    "        portfoliomatrix[j] = matrix.apply(portfoliovalue,axis = 1)\n",
    "        \n",
    "    portfoliomatrix = portfoliomatrix*capital\n",
    "    portfoliomatrix = portfoliomatrix - capital\n",
    "\n",
    "    return portfoliomatrix"
   ]
  },
  {
   "cell_type": "code",
   "execution_count": 52,
   "metadata": {},
   "outputs": [],
   "source": [
    "# mean_returns"
   ]
  },
  {
   "cell_type": "code",
   "execution_count": 53,
   "metadata": {},
   "outputs": [],
   "source": [
    "# x = simulation(weightfinal,final)"
   ]
  },
  {
   "cell_type": "code",
   "execution_count": 54,
   "metadata": {},
   "outputs": [],
   "source": [
    "def histogram(x,j = 3):\n",
    "    n, bins, patches = plt.hist(x[j], 50, density=True, facecolor='g')\n",
    "    plt.xlabel('Portfolio value')\n",
    "    plt.ylabel('Probability')\n",
    "    plt.title('Histogram of Portfolio gains in ' + str(j) + ' years')\n",
    "    plt.grid(True)   \n",
    "    print('our gains could be less than ' + str(int(x[j].quantile(0.05))) +' $ in '+ str(j) + ' years with 5% probability with 10,000 $ at present')\n",
    "    print('we could gain more than ' + str(int(x[j].quantile(0.95))) +' $ in '+ str(j) + ' years with 5% probability with 10,000 $ at present')\n",
    "    return plt.show()"
   ]
  },
  {
   "cell_type": "code",
   "execution_count": 55,
   "metadata": {},
   "outputs": [],
   "source": [
    "def describe(x):\n",
    "    y = web.DataReader(x,data_source=\"yahoo\", start = datetime(2017, 1, 1), end = datetime.today())['Adj Close']\n",
    "    print(y.pct_change(y.shape[0]-1).iloc[-1])\n",
    "    return y"
   ]
  },
  {
   "cell_type": "code",
   "execution_count": 56,
   "metadata": {},
   "outputs": [],
   "source": [
    "# histogram(x,5)"
   ]
  },
  {
   "cell_type": "code",
   "execution_count": 57,
   "metadata": {},
   "outputs": [],
   "source": [
    "# simulation(weightfinal,final)"
   ]
  },
  {
   "cell_type": "code",
   "execution_count": 58,
   "metadata": {},
   "outputs": [],
   "source": [
    "# barplotBL(BLreturns, MLreturns,company)"
   ]
  },
  {
   "cell_type": "code",
   "execution_count": 59,
   "metadata": {},
   "outputs": [],
   "source": [
    "# topstockslistyahoo['Symbol'].tolist()"
   ]
  },
  {
   "cell_type": "code",
   "execution_count": 139,
   "metadata": {
    "scrolled": true
   },
   "outputs": [
    {
     "name": "stdout",
     "output_type": "stream",
     "text": [
      "Bot: Hi, I'm a chatbot and I can help with creating a portfolio according to your preferences. Feel free to ask me any questions on investing in a portfolio of stocks and ETF's. Please enter 'quit' to end the bot\n",
      "User: passive\n",
      "Bot: please enter the index you want to track\n",
      "For example some of the famous indexes include S&P500 (ticker: GSPC) and NASDAQ100 (ticker: IXIC)\n",
      "enter the ticker of the index you would like to track\n",
      ">> ixic\n",
      "enter the list of shares or ETF's you want to hold in your portfolio and after completed enter 'done' in the end\n",
      "please enter 'yes' if you are already aware of the tickers of the company else 'no'\n",
      ">> yes\n",
      "enter the name of the assets to be considered one at a time and press enter, after completed enter 'done' in the end\n",
      ">> ms\n",
      ">> sbux\n",
      ">> jwn\n",
      ">> aapl\n",
      ">> dis\n",
      ">> dgaz\n",
      ">> shop\n",
      ">> crm\n",
      ">> twlo\n",
      ">> adbe\n",
      ">> done\n"
     ]
    },
    {
     "data": {
      "image/png": "[encoded data removed]",
      "text/plain": [
       "<Figure size 432x288 with 1 Axes>"
      ]
     },
     "metadata": {
      "needs_background": "light"
     },
     "output_type": "display_data"
    },
    {
     "name": "stdout",
     "output_type": "stream",
     "text": [
      "                         1     2     3     4     5\n",
      "Expected Risk in %      15    20    26    33    41\n",
      "Expected Return in %    14    42    56    70    84\n",
      "Sharpe Ratio          0.86  1.97  2.05  2.03  1.98\n",
      "Tracking Error in %      9    12    19    27    35\n",
      "\u001b[1;32;40m please choose the portfolio you want to move a head with further analysis, enter the number\n",
      "User: quit\n"
     ]
    },
    {
     "data": {
      "text/plain": [
       "<watson_developer_cloud.watson_service.DetailedResponse at 0x2aea18592e8>"
      ]
     },
     "execution_count": 139,
     "metadata": {},
     "output_type": "execute_result"
    }
   ],
   "source": [
    "# Set up Assistant service.\n",
    "service = watson_developer_cloud.AssistantV2(iam_apikey = 'jAINB1_e24mDxYqqD8vsqMzr2XUYualRTbSKC1HMXndT', # replace with API key\n",
    "    version = '2018-09-20')\n",
    "assistant_id = '0d24f406-3df1-4d85-a93d-a39a64a95d1e' # replace with assistant ID\n",
    "\n",
    "# assistant_id = '8b633fe1-b553-4f1e-b763-3a57854a5679' # replace with assistant ID\n",
    "# Create session.\n",
    "session_id = service.create_session(assistant_id = assistant_id).get_result()['session_id']\n",
    "\n",
    "user_input = 'Hi'\n",
    "index = pd.DataFrame()\n",
    "instance = 0\n",
    "graphinstance = 0\n",
    "# Main input/output loop\n",
    "while user_input != 'quit':\n",
    "\n",
    "    # Send message to assistant.\n",
    "    response = service.message(assistant_id,session_id,input = {'text': user_input}).get_result()\n",
    "\n",
    "#     If an intent was detected, print it to the console.\n",
    "#     if response['output']['intents']:\n",
    "#         print('Detected intent: #' + response['output']['intents'][0]['intent'])\n",
    "        \n",
    "#     if response['output']['entities']:\n",
    "#         print('Detected entity: @' + response['output']['entities'][0]['entity'])\n",
    "\n",
    "    # Print the output from dialog, if any. Assumes a single text response.\n",
    "    if response['output']['generic']:\n",
    "        print('Bot: ' + response['output']['generic'][0]['text'])\n",
    "        \n",
    "    if response['output']['intents']:\n",
    "        if response['output']['intents'][0]['intent'] == 'maxsharpe':\n",
    "            shares,stocks = collectdatafromuser()\n",
    "            weights, All = maxsharpe(shares)\n",
    "            weightfinal = All.transpose().iloc[:-3,:][0]\n",
    "            \n",
    "            portfoliovaluetoday = 10000\n",
    "            sharesholdingtoday = np.divide(weightfinal * portfoliovaluetoday,shares[stocks].iloc[-1,:])\n",
    "            def portfoliovalue(row,shares = sharesholdingtoday ):\n",
    "                return sum(row.multiply(shares))\n",
    "            shares['Portfolio Value'] = shares[stocks].apply(portfoliovalue, axis=1)\n",
    "            shares['Portfolio Value'] = shares['Portfolio Value'].astype(int)\n",
    "            try:\n",
    "                shares['Index'] = index\n",
    "            except:\n",
    "                shares['Index'] = getdataindex('gspc')\n",
    "            indexholdingtoday =  np.divide(portfoliovaluetoday,shares['Index'].iloc[-1])\n",
    "            def indexvalue(row,shares = indexholdingtoday):\n",
    "                return row*shares\n",
    "            shares['Market Index'] = shares['Index'].apply(indexvalue)\n",
    "            shares['Market Index'] = shares['Market Index'].astype(int)            \n",
    "            portvalueplot(shares)\n",
    "            pieplot(weightfinal)\n",
    "            \n",
    "    \n",
    "    if response['output']['intents']:\n",
    "        if response['output']['intents'][0]['intent'] == 'equallyweighted':\n",
    "            shares,stocks = collectdatafromuser()\n",
    "            weights, All = equallyweighted(shares)\n",
    "            weightfinal = All.transpose().iloc[:-3,:][0]\n",
    "            \n",
    "            portfoliovaluetoday = 10000\n",
    "            sharesholdingtoday = np.divide(weightfinal * portfoliovaluetoday,shares[stocks].iloc[-1,:])\n",
    "            def portfoliovalue(row,shares = sharesholdingtoday ):\n",
    "                return sum(row.multiply(shares))\n",
    "            shares['Portfolio Value'] = shares[stocks].apply(portfoliovalue, axis=1)\n",
    "            shares['Portfolio Value'] = shares['Portfolio Value'].astype(int)\n",
    "            try:\n",
    "                shares['Index'] = index\n",
    "            except:\n",
    "                shares['Index'] = getdataindex('gspc')\n",
    "            indexholdingtoday =  np.divide(portfoliovaluetoday,shares['Index'].iloc[-1])\n",
    "            def indexvalue(row,shares = indexholdingtoday):\n",
    "                return row*shares\n",
    "            shares['Market Index'] = shares['Index'].apply(indexvalue)\n",
    "            shares['Market Index'] = shares['Market Index'].astype(int)            \n",
    "            portvalueplot(shares)\n",
    "            pieplot(weightfinal)\n",
    "             \n",
    "                \n",
    "    if response['output']['intents']:\n",
    "        if response['output']['intents'][0]['intent'] == 'Black-Litterman':\n",
    "            instance = 0\n",
    "            instance = instance + 1\n",
    "            BLreturns, MLreturns, shares,stocks,company,usernames = BlackLitterman()\n",
    "            BLreturns = [x[0] for x in BLreturns]\n",
    "            BLreturns = array(BLreturns)\n",
    "#             print('The returns obtained by black litermann model after considering views are')\n",
    "#             print(BLreturns)\n",
    "#             print('The returns obtained by market equlibrium of the assets are')\n",
    "#             print(MLreturns)\n",
    "\n",
    "            barplotBL(BLreturns, MLreturns,usernames)\n",
    "                                                \n",
    "            weights, All = efficientfrontierabsolute(shares,blreturns = BLreturns)\n",
    "            summary, weightschoosen = summarydfabsolute(All)\n",
    "\n",
    "            efficientplot(All)\n",
    "            print(summary)\n",
    "            print(\"please choose the portfolio you want to move a head with further analysis, enter the number\")\n",
    "    \n",
    "    if response['output']['intents']:\n",
    "        if response['output']['intents'][0]['intent'] == 'companyname':       \n",
    "            name = response['output']['entities'][0]['value']\n",
    "            stock = findtheticker(name,y = dftickerstocksETF,i=0)\n",
    "            print('the ticker of the stock '+name+' is' + stock)\n",
    "        \n",
    "\n",
    "\n",
    "    # this instance variable is proof that the strategy loop is called atleast once\n",
    "    if response['output']['intents']:\n",
    "        if response['output']['intents'][0]['intent'] == 'strategy':\n",
    "            if response['output']['entities']:\n",
    "                if response['output']['entities'][0]['value'] == 'passive':\n",
    "                    instance = 0\n",
    "                    instance = instance + 1\n",
    "                    graphinstance = graphinstance + 1\n",
    "                    print(\"For example some of the famous indexes include S&P500 (ticker: GSPC) and NASDAQ100 (ticker: IXIC)\", end='\\n')\n",
    "                    print(\"enter the ticker of the index you would like to track\")            \n",
    "                    user_input_2 = input('>> ')\n",
    "                    index = getdataindex(user_input_2)\n",
    "                    shares,stocks = collectdatafromuser()\n",
    "                    \n",
    "                    weights, All = efficientfrontierrelative(shares,index)\n",
    "                    summary, weightschoosen = summarydftracking(All)\n",
    "#                     weightschoosen = summarydftracking(All)[1]\n",
    "\n",
    "                    efficientplotabsolute(All)\n",
    "                    print(summary)\n",
    "                    print(\"\\033[1;32;40m please choose the portfolio you want to move a head with further analysis, enter the number\")\n",
    "\n",
    "\n",
    "                if response['output']['entities'][0]['value'] == 'active':\n",
    "                    instance = 0\n",
    "                    instance = instance + 1\n",
    "                    \n",
    "                    shares,stocks = collectdatafromuser()    \n",
    "\n",
    "                    shares = getdatastocks(stocks)\n",
    "                    weights, All = efficientfrontierabsolute(shares)\n",
    "                    summary, weightschoosen = summarydfabsolute(All)\n",
    "\n",
    "                    efficientplot(All)\n",
    "                    print(summary)\n",
    "                    print(\"\\033[1;32;40m please choose the portfolio you want to move a head with further analysis, enter the number\")\n",
    "\n",
    "\n",
    "    if response['output']['entities']:\n",
    "        if response['output']['entities'][0]['entity'] == 'portfolio_number' and instance == 1:\n",
    "            weightfinal = weightschoosen[response['output']['entities'][0]['value']]\n",
    "            portfoliovaluetoday = 10000\n",
    "            sharesholdingtoday = np.divide(weightfinal * portfoliovaluetoday,shares[stocks].iloc[-1,:])\n",
    "            def portfoliovalue(row,shares = sharesholdingtoday ):\n",
    "                return sum(row.multiply(shares))\n",
    "            shares['Portfolio Value'] = shares[stocks].apply(portfoliovalue, axis=1)\n",
    "            shares['Portfolio Value'] = shares['Portfolio Value'].astype(int)\n",
    "            try:\n",
    "                shares['Index'] = index\n",
    "            except:\n",
    "                shares['Index'] = getdataindex('gspc')\n",
    "            indexholdingtoday =  np.divide(portfoliovaluetoday,shares['Index'].iloc[-1])\n",
    "            def indexvalue(row,shares = indexholdingtoday):\n",
    "                return row*shares\n",
    "            shares['Market Index'] = shares['Index'].apply(indexvalue)\n",
    "            shares['Market Index'] = shares['Market Index'].astype(int)            \n",
    "            portvalueplot(shares)\n",
    "            pieplot(weightfinal)\n",
    "            x = simulation(weightfinal,shares[stocks],scenarios = 1500,capital = 10000,years = [1,3,5])\n",
    "            histogram(x,3)\n",
    "#             histogram(x,1)\n",
    "#             histogram(x,5)\n",
    "\n",
    "    # Prompt for next round of input.\n",
    "    user_input = input('User: ')\n",
    "\n",
    "# We're done, so we delete the session.d\n",
    "service.delete_session(assistant_id = assistant_id,session_id = session_id)"
   ]
  },
  {
   "cell_type": "code",
   "execution_count": null,
   "metadata": {},
   "outputs": [],
   "source": [
    "x = getdatastocks(['msft'])"
   ]
  },
  {
   "cell_type": "code",
   "execution_count": null,
   "metadata": {},
   "outputs": [],
   "source": []
  },
  {
   "cell_type": "markdown",
   "metadata": {},
   "source": [
    "#### Common tickers in Yahoo\n",
    "MS, SBUX, JWN, aapl ,goog ,amzn ,pfe , bx , dis, dgaz, shop,crm, twlo,adbe, TWTR,QCOM\n",
    "\n",
    "\n",
    "AMD,CELG,RMD,ARNC,\n",
    "\n",
    "^GSPC\tS&P 500, ^IXIC\tNasdaq, ^DJI\tDow 30,^NYA\tNYSE COMPOSITE (DJ)\n",
    "\n",
    "#### ETF\n",
    "0\tXBI\tSPDR S&P Biotech ETF\n",
    "\n",
    "1\tPSCH\tInvesco S&P SmallCap Health Care ETF\n",
    "\n",
    "3\tFBT\tFirst Trust NYSE Arca Biotechnology Index Fund\n",
    "\n",
    "4\tARKK\tARK Innovation ETF\n",
    "\n",
    "5\tQLD\t\n",
    "\n",
    "\n",
    "GLD – SPDR Gold Shares ETF.\n",
    "EEM – iShares MSCI Emerging Markets ETF.\n",
    "IEMG – iShares Core MSCI Emerging Markets ETF.\n",
    "VTI – Vanguard Total Stock Market ETF.\n",
    "\n"
   ]
  },
  {
   "cell_type": "code",
   "execution_count": null,
   "metadata": {},
   "outputs": [],
   "source": [
    "##### service.delete_session(assistant_id = assistant_id,session_id = session_id)"
   ]
  },
  {
   "cell_type": "code",
   "execution_count": null,
   "metadata": {},
   "outputs": [],
   "source": [
    "# dftickerstocksETF.head()"
   ]
  },
  {
   "cell_type": "code",
   "execution_count": null,
   "metadata": {},
   "outputs": [],
   "source": [
    "# dftickerstocksETF.tail()"
   ]
  },
  {
   "cell_type": "code",
   "execution_count": 140,
   "metadata": {},
   "outputs": [],
   "source": [
    "# dftickerstocksETF.tail()"
   ]
  },
  {
   "cell_type": "code",
   "execution_count": null,
   "metadata": {},
   "outputs": [],
   "source": [
    "# topstockslistyahoo.head(10)"
   ]
  },
  {
   "cell_type": "code",
   "execution_count": null,
   "metadata": {},
   "outputs": [],
   "source": [
    "# topETFlistyahoo.head(10)"
   ]
  },
  {
   "cell_type": "code",
   "execution_count": null,
   "metadata": {},
   "outputs": [],
   "source": [
    "# describe('ms').tail()"
   ]
  },
  {
   "cell_type": "code",
   "execution_count": null,
   "metadata": {},
   "outputs": [],
   "source": []
  }
 ],
 "metadata": {
  "kernelspec": {
   "display_name": "Python 3",
   "language": "python",
   "name": "python3"
  },
  "language_info": {
   "codemirror_mode": {
    "name": "ipython",
    "version": 3
   },
   "file_extension": ".py",
   "mimetype": "text/x-python",
   "name": "python",
   "nbconvert_exporter": "python",
   "pygments_lexer": "ipython3",
   "version": "3.5.6"
  }
 },
 "nbformat": 4,
 "nbformat_minor": 2
}
